{
 "cells": [
  {
   "cell_type": "code",
   "execution_count": 2,
   "id": "088d1a49-7b56-4287-a1e4-cbcc1f90f3ca",
   "metadata": {
    "execution": {
     "iopub.execute_input": "2023-03-13T08:43:07.418158Z",
     "iopub.status.busy": "2023-03-13T08:43:07.417170Z",
     "iopub.status.idle": "2023-03-13T08:43:07.422970Z",
     "shell.execute_reply": "2023-03-13T08:43:07.421968Z",
     "shell.execute_reply.started": "2023-03-13T08:43:07.418129Z"
    },
    "tags": []
   },
   "outputs": [
    {
     "name": "stdout",
     "output_type": "stream",
     "text": [
      "Hello\n"
     ]
    }
   ],
   "source": [
    "import time\n",
    "time.sleep(2)\n",
    "print(\"Hello\")"
   ]
  },
  {
   "cell_type": "code",
   "execution_count": null,
   "id": "b1b0e571-44e4-4fbf-8a87-40b721e4501c",
   "metadata": {},
   "outputs": [],
   "source": []
  }
 ],
 "metadata": {
  "kernelspec": {
   "display_name": "Python 3 (ipykernel)",
   "language": "python",
   "name": "python3"
  },
  "language_info": {
   "codemirror_mode": {
    "name": "ipython",
    "version": 3
   },
   "file_extension": ".py",
   "mimetype": "text/x-python",
   "name": "python",
   "nbconvert_exporter": "python",
   "pygments_lexer": "ipython3",
   "version": "3.11.2"
  }
 },
 "nbformat": 4,
 "nbformat_minor": 5
}
