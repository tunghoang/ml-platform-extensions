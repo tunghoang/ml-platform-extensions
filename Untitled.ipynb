{
 "cells": [
  {
   "cell_type": "code",
   "execution_count": 7,
   "id": "100fed86-adb1-49c9-96ce-efe61f5d4d5b",
   "metadata": {
    "execution": {
     "iopub.execute_input": "2023-02-28T14:11:25.106017Z",
     "iopub.status.busy": "2023-02-28T14:11:25.105751Z",
     "iopub.status.idle": "2023-02-28T14:11:30.110100Z",
     "shell.execute_reply": "2023-02-28T14:11:30.109147Z",
     "shell.execute_reply.started": "2023-02-28T14:11:25.105999Z"
    },
    "tags": []
   },
   "outputs": [
    {
     "name": "stdout",
     "output_type": "stream",
     "text": [
      "hello\n"
     ]
    }
   ],
   "source": [
    "import time\n",
    "time.sleep(5)\n",
    "print(\"hello\")"
   ]
  },
  {
   "cell_type": "code",
   "execution_count": null,
   "id": "a61424d6-3706-4780-a710-83ae02202159",
   "metadata": {
    "tags": []
   },
   "outputs": [],
   "source": [
    "time.sleep(2)\n",
    "print(\"hi\")"
   ]
  },
  {
   "cell_type": "code",
   "execution_count": null,
   "id": "154b803f-34a7-40d8-8056-158b98db6862",
   "metadata": {},
   "outputs": [],
   "source": []
  }
 ],
 "metadata": {
  "kernelspec": {
   "display_name": "Python 3 (ipykernel)",
   "language": "python",
   "name": "python3"
  },
  "language_info": {
   "codemirror_mode": {
    "name": "ipython",
    "version": 3
   },
   "file_extension": ".py",
   "mimetype": "text/x-python",
   "name": "python",
   "nbconvert_exporter": "python",
   "pygments_lexer": "ipython3",
   "version": "3.11.2"
  }
 },
 "nbformat": 4,
 "nbformat_minor": 5
}
